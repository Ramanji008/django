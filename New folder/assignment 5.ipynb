{
 "cells": [
  {
   "cell_type": "code",
   "execution_count": 12,
   "id": "3f1b1583-4a4b-4ebe-8982-c24f98c242e6",
   "metadata": {
    "scrolled": true
   },
   "outputs": [
    {
     "name": "stdout",
     "output_type": "stream",
     "text": [
      "1\n",
      "coder\n"
     ]
    }
   ],
   "source": [
    "class employee:\n",
    "    def __init__(self, emp_id, name):\n",
    "        self.id = emp_id\n",
    "        self.name = name\n",
    "\n",
    "Emp = employee(1, 'coder')\n",
    "print(Emp.id)\n",
    "print(Emp.name)\n"
   ]
  },
  {
   "cell_type": "code",
   "execution_count": 13,
   "id": "0a9731d6-dc5f-4934-8793-1e9f9ccc32f6",
   "metadata": {},
   "outputs": [
    {
     "name": "stdout",
     "output_type": "stream",
     "text": [
      "False\n"
     ]
    }
   ],
   "source": [
    "del Emp.id\n",
    "print(hasattr(Emp, 'id'))\n",
    "del Emp"
   ]
  },
  {
   "cell_type": "code",
   "execution_count": 27,
   "id": "5610cb9d-11ee-4e8b-9d0f-6a5a876661c4",
   "metadata": {},
   "outputs": [
    {
     "name": "stdout",
     "output_type": "stream",
     "text": [
      "animals have different habitats.\n",
      "Cats are living the home and outside.\n"
     ]
    }
   ],
   "source": [
    "class Animal:\n",
    "    def habitat(self):\n",
    "        print('animals have different habitats.')\n",
    "\n",
    "class Cats(Animal):\n",
    "    def habitat(self):\n",
    "        super().habitat()\n",
    "        print('Cats are living the home and outside.')\n",
    "\n",
    "cats = Cats()\n",
    "cats.habitat()"
   ]
  },
  {
   "cell_type": "code",
   "execution_count": 15,
   "id": "da5289d8-1bd7-47ef-831a-ef66a9eb133f",
   "metadata": {},
   "outputs": [
    {
     "name": "stdout",
     "output_type": "stream",
     "text": [
      "Studying for Master's degree.\n",
      "Operating System.\n",
      "John is a Master Student and a Teacher.\n"
     ]
    }
   ],
   "source": [
    "class Teacher:\n",
    "    def teach(self):\n",
    "         print(\"Operating System.\")\n",
    "    \n",
    "class Student:\n",
    "      def study(self):\n",
    "          print(\"Studying for Master's degree.\")\n",
    "    \n",
    "class MasterStudent(Student, Teacher):\n",
    "    def __init__(self, name):\n",
    "        self.name = name\n",
    "    \n",
    "    def show_role(self):\n",
    "         print(f\"{self.name} is a Master Student and a Teacher.\")\n",
    "    \n",
    "master_student = MasterStudent(\"John\")\n",
    "master_student.study() \n",
    "master_student.teach()\n",
    "master_student.show_role()"
   ]
  },
  {
   "cell_type": "code",
   "execution_count": 16,
   "id": "7c9477cd-8c6c-4a0e-b3d0-5b03e34cb700",
   "metadata": {},
   "outputs": [
    {
     "name": "stdout",
     "output_type": "stream",
     "text": [
      "Studying hardwork.\n",
      "Teaching subjects.\n",
      "Creating YouTube chanels.\n",
      "Alice is a Student, Teacher, and YouTuber.\n"
     ]
    }
   ],
   "source": [
    "class Teacher:\n",
    "    def  teach(self):\n",
    "         print(\"Teaching subjects.\")\n",
    "        \n",
    "class Student:\n",
    "    def study(self):\n",
    "        print(\"Studying hardwork.\")\n",
    "        \n",
    "class YouTuber:\n",
    "    def create_content(self):\n",
    "          print(\"Creating YouTube chanels.\")\n",
    "        \n",
    "class MultiRoleStudent(Student, Teacher, YouTuber):\n",
    "    def __init__(self, name):\n",
    "         self.name = name\n",
    "        \n",
    "    def show_roles(self):\n",
    "         print(f\"{self.name} is a Student, Teacher, and YouTuber.\")\n",
    "\n",
    "multi_role_student = MultiRoleStudent(\"Alice\")\n",
    "multi_role_student.study() \n",
    "multi_role_student.teach() \n",
    "multi_role_student.create_content() \n",
    "multi_role_student.show_roles()"
   ]
  },
  {
   "cell_type": "code",
   "execution_count": 17,
   "id": "1fd1018f-c1f3-4ce5-8247-2e6ae07fc496",
   "metadata": {},
   "outputs": [
    {
     "name": "stdout",
     "output_type": "stream",
     "text": [
      "Rectangle area: 15\n",
      "Circle area: 50.26548245743669\n"
     ]
    }
   ],
   "source": [
    "import math\n",
    "\n",
    "class Shape:\n",
    "   def area(self):\n",
    "       print(\"Calculating area\")\n",
    "       \n",
    "class Rectangle(Shape):\n",
    "   def __init__(self, length, width):\n",
    "       self.length = length\n",
    "       self.width = width\n",
    "       \n",
    "   def area(self):\n",
    "       area = self.length * self.width\n",
    "       print(f\"Rectangle area: {area}\")\n",
    "       \n",
    "class Circle(Shape):\n",
    "   def __init__(self, radius):\n",
    "        self.radius = radius\n",
    "       \n",
    "   def area(self):\n",
    "       area = math.pi * self.radius ** 2\n",
    "       print(f\"Circle area: {area}\")\n",
    "       \n",
    "rect = Rectangle(5, 3)\n",
    "rect.area()\n",
    "\n",
    "circle = Circle(4)\n",
    "circle.area() "
   ]
  },
  {
   "cell_type": "code",
   "execution_count": 26,
   "id": "c032fb74-fef5-4dc6-bc6f-dab71f27cbab",
   "metadata": {},
   "outputs": [
    {
     "name": "stdout",
     "output_type": "stream",
     "text": [
      "1500 deposited. New balance: 3000\n",
      "300 withdrawn. New balance: 2700\n",
      "Current balance: 2700\n"
     ]
    }
   ],
   "source": [
    "class BankAccount:\n",
    "    def __init__(self, account_holder_name, balance, pin):\n",
    "         self.account_holder_name = account_holder_name\n",
    "         self.balance = balance\n",
    "         self.pin = pin\n",
    "    \n",
    "    def deposit(self, amount):\n",
    "         self.balance += amount\n",
    "         print(f\"{amount} deposited. New balance: {self.balance}\")\n",
    "    \n",
    "    def withdraw(self, amount, pin):\n",
    "        if pin == self.pin:\n",
    "            if self.balance >= amount:\n",
    "                self.balance -= amount\n",
    "                print(f\"{amount} withdrawn. New balance: {self.balance}\")\n",
    "            else:\n",
    "               print(\"Insufficient balance.\")\n",
    "        else:\n",
    "           print(\"Incorrect PIN.\")\n",
    "\n",
    "    def check_balance(self):\n",
    "       print(f\"Current balance: {self.balance}\")\n",
    "     \n",
    "account = BankAccount(\"John \", 1500, 1244)\n",
    "account.deposit(1500) \n",
    "account.withdraw(300, 1244) \n",
    "account.check_balance()"
   ]
  },
  {
   "cell_type": "code",
   "execution_count": null,
   "id": "63ff8f7c-eb07-4861-bd3e-82449fec45e9",
   "metadata": {},
   "outputs": [],
   "source": []
  }
 ],
 "metadata": {
  "kernelspec": {
   "display_name": "Python 3 (ipykernel)",
   "language": "python",
   "name": "python3"
  },
  "language_info": {
   "codemirror_mode": {
    "name": "ipython",
    "version": 3
   },
   "file_extension": ".py",
   "mimetype": "text/x-python",
   "name": "python",
   "nbconvert_exporter": "python",
   "pygments_lexer": "ipython3",
   "version": "3.12.4"
  }
 },
 "nbformat": 4,
 "nbformat_minor": 5
}
